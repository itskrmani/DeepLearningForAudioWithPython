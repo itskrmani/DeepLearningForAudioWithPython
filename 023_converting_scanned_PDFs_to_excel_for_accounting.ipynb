{
  "nbformat": 4,
  "nbformat_minor": 0,
  "metadata": {
    "colab": {
      "name": "023 converting scanned PDFs to excel for accounting",
      "provenance": [],
      "include_colab_link": true
    },
    "kernelspec": {
      "name": "python3",
      "display_name": "Python 3"
    }
  },
  "cells": [
    {
      "cell_type": "markdown",
      "metadata": {
        "id": "view-in-github",
        "colab_type": "text"
      },
      "source": [
        "<a href=\"https://colab.research.google.com/github/itskrmani/DeepLearningForAudioWithPython/blob/master/023_converting_scanned_PDFs_to_excel_for_accounting.ipynb\" target=\"_parent\"><img src=\"https://colab.research.google.com/assets/colab-badge.svg\" alt=\"Open In Colab\"/></a>"
      ]
    },
    {
      "cell_type": "code",
      "metadata": {
        "id": "zkyeOqINJf2V",
        "outputId": "98af9136-ec51-415e-a047-63d3f95c7700",
        "colab": {
          "base_uri": "https://localhost:8080/",
          "height": 156
        }
      },
      "source": [
        "!apt-get install ocrmypdf -q"
      ],
      "execution_count": null,
      "outputs": [
        {
          "output_type": "stream",
          "text": [
            "Reading package lists...\n",
            "Building dependency tree...\n",
            "Reading state information...\n",
            "ocrmypdf is already the newest version (6.1.2-1ubuntu1.1).\n",
            "The following package was automatically installed and is no longer required:\n",
            "  libnvidia-common-440\n",
            "Use 'apt autoremove' to remove it.\n",
            "0 upgraded, 0 newly installed, 0 to remove and 43 not upgraded.\n"
          ],
          "name": "stdout"
        }
      ]
    },
    {
      "cell_type": "code",
      "metadata": {
        "id": "OIkKFZW-7gSS"
      },
      "source": [
        "!pip install pdfplumber -q"
      ],
      "execution_count": null,
      "outputs": []
    },
    {
      "cell_type": "code",
      "metadata": {
        "id": "bnD8KiTZK7-H"
      },
      "source": [
        "import os\n",
        "\n",
        "import requests\n",
        "import pdfplumber"
      ],
      "execution_count": null,
      "outputs": []
    },
    {
      "cell_type": "code",
      "metadata": {
        "id": "gAg5Ob3dPbx_"
      },
      "source": [
        "def download_file(url):\n",
        "    local_filename = url.split('/')[-1]\n",
        "    \n",
        "    with requests.get(url) as r:\n",
        "        assert r.status_code == 200, f'error, status code is {r.status_code}'\n",
        "        with open(local_filename, 'wb') as f:\n",
        "            f.write(r.content)\n",
        "        \n",
        "    return local_filename"
      ],
      "execution_count": null,
      "outputs": []
    },
    {
      "cell_type": "code",
      "metadata": {
        "id": "fh1M72iz7mGP"
      },
      "source": [
        "invoice = 'https://bit.ly/2UJgUpO'\n",
        "invoice_pdf = download_file(invoice)"
      ],
      "execution_count": null,
      "outputs": []
    },
    {
      "cell_type": "code",
      "metadata": {
        "id": "5DnRw5RlXmq5",
        "colab": {
          "base_uri": "https://localhost:8080/",
          "height": 35
        },
        "outputId": "76c4bcaa-bc0a-41bd-cc4f-2149d9ab0015"
      },
      "source": [
        "invoice_pdf"
      ],
      "execution_count": null,
      "outputs": [
        {
          "output_type": "execute_result",
          "data": {
            "text/plain": [
              "'2UJgUpO'"
            ]
          },
          "metadata": {
            "tags": []
          },
          "execution_count": 6
        }
      ]
    },
    {
      "cell_type": "code",
      "metadata": {
        "id": "hjHUB9b87ypz",
        "outputId": "334341f4-ab31-4996-87b2-c033561a2261",
        "colab": {
          "base_uri": "https://localhost:8080/",
          "height": 35
        }
      },
      "source": [
        "with pdfplumber.open(invoice_pdf) as pdf:\n",
        "    page = pdf.pages[0]\n",
        "    text = page.extract_text()\n",
        "    print(text)"
      ],
      "execution_count": null,
      "outputs": [
        {
          "output_type": "stream",
          "text": [
            "None\n"
          ],
          "name": "stdout"
        }
      ]
    },
    {
      "cell_type": "code",
      "metadata": {
        "id": "GCLypZf_z0jF",
        "outputId": "7014d78a-cd77-4e28-c56c-717e0fef0d90",
        "colab": {
          "base_uri": "https://localhost:8080/",
          "height": 35
        }
      },
      "source": [
        "os.system(f'ocrmypdf {invoice_pdf} output.pdf')"
      ],
      "execution_count": null,
      "outputs": [
        {
          "output_type": "execute_result",
          "data": {
            "text/plain": [
              "0"
            ]
          },
          "metadata": {
            "tags": []
          },
          "execution_count": 8
        }
      ]
    },
    {
      "cell_type": "code",
      "metadata": {
        "id": "psTdGdHm-IKm",
        "outputId": "8baaedd1-402e-44fd-fae2-ea9936e17870",
        "colab": {
          "base_uri": "https://localhost:8080/",
          "height": 451
        }
      },
      "source": [
        "with pdfplumber.open('output.pdf') as pdf:\n",
        "    page = pdf.pages[0]\n",
        "    text = page.extract_text(x_tolerance=2)\n",
        "    print(text)"
      ],
      "execution_count": null,
      "outputs": [
        {
          "output_type": "stream",
          "text": [
            "Stanford Plumbing & Heating INVOICE\n",
            "123 Madison drive, Seattle, WA, 7829Q\n",
            "plumbingstanford.com\n",
            "990-120-4560\n",
            "BILL TO Invoice No: winvo2081\n",
            "Allen Smith Invoice Date: nae\n",
            "87Private st, Seattle, WA ‘Due Date: 12/01/18\n",
            "allen@gmailcom\n",
            "990-302-1898\n",
            "DESCRIPTION QTYHR UNITPRICE TOTAL\n",
            "Installed new kitchen sink(hours) 150.00\n",
            "Toto sink 1 $00.00 $00.00\n",
            "Worcester greenstar magnetic system filter 1 190.00 190.00\n",
            "Nest smart thermostat 1 250.00 250.00\n",
            "Worcester Greenstar 301 1 1500.00 1500.00\n",
            "‘SUBTOTAL 2590.00\n",
            "DISCOUNT 50.00\n",
            "‘SUBTOTAL LESS DISCOUNT 2540.00\n",
            "Tank you for your business!\n",
            "TAXRATE 12.00%\n",
            "TOTAL TAX 304.80\n",
            "Balance Due $2,844.80\n",
            "Terms & Instructions\n",
            "Please pay within 20 days by PayPal (bob@stanfordplumbingcom)\n",
            "Installed products have S year warranty.\n"
          ],
          "name": "stdout"
        }
      ]
    },
    {
      "cell_type": "code",
      "metadata": {
        "id": "4eUU1w5d4fBP"
      },
      "source": [
        "lines = text.split('\\n')"
      ],
      "execution_count": null,
      "outputs": []
    },
    {
      "cell_type": "code",
      "metadata": {
        "id": "1h6Y8UqgU9si",
        "colab": {
          "base_uri": "https://localhost:8080/",
          "height": 451
        },
        "outputId": "be9aee6c-e194-43c1-ebb5-207895e0adb5"
      },
      "source": [
        "lines"
      ],
      "execution_count": null,
      "outputs": [
        {
          "output_type": "execute_result",
          "data": {
            "text/plain": [
              "['Stanford Plumbing & Heating INVOICE',\n",
              " '123 Madison drive, Seattle, WA, 7829Q',\n",
              " 'plumbingstanford.com',\n",
              " '990-120-4560',\n",
              " 'BILL TO Invoice No: winvo2081',\n",
              " 'Allen Smith Invoice Date: nae',\n",
              " '87Private st, Seattle, WA ‘Due Date: 12/01/18',\n",
              " 'allen@gmailcom',\n",
              " '990-302-1898',\n",
              " 'DESCRIPTION QTYHR UNITPRICE TOTAL',\n",
              " 'Installed new kitchen sink(hours) 150.00',\n",
              " 'Toto sink 1 $00.00 $00.00',\n",
              " 'Worcester greenstar magnetic system filter 1 190.00 190.00',\n",
              " 'Nest smart thermostat 1 250.00 250.00',\n",
              " 'Worcester Greenstar 301 1 1500.00 1500.00',\n",
              " '‘SUBTOTAL 2590.00',\n",
              " 'DISCOUNT 50.00',\n",
              " '‘SUBTOTAL LESS DISCOUNT 2540.00',\n",
              " 'Tank you for your business!',\n",
              " 'TAXRATE 12.00%',\n",
              " 'TOTAL TAX 304.80',\n",
              " 'Balance Due $2,844.80',\n",
              " 'Terms & Instructions',\n",
              " 'Please pay within 20 days by PayPal (bob@stanfordplumbingcom)',\n",
              " 'Installed products have S year warranty.']"
            ]
          },
          "metadata": {
            "tags": []
          },
          "execution_count": 13
        }
      ]
    },
    {
      "cell_type": "code",
      "metadata": {
        "id": "IxKbWlrJVA0R"
      },
      "source": [
        "import re"
      ],
      "execution_count": null,
      "outputs": []
    },
    {
      "cell_type": "code",
      "metadata": {
        "id": "FYszGGphYTI7"
      },
      "source": [
        "amt_re = re.compile(r'\\.\\d\\d$')"
      ],
      "execution_count": null,
      "outputs": []
    },
    {
      "cell_type": "code",
      "metadata": {
        "id": "d6GxjOnUYXzY"
      },
      "source": [
        "subt = 0\n",
        "\n",
        "for line in lines:\n",
        "    if 'SUBTOTAL' in line:\n",
        "        break\n",
        "    if amt_re.search(line):\n",
        "        subt += float(line.split()[-1].replace(',', '').replace('$', ''))"
      ],
      "execution_count": null,
      "outputs": []
    },
    {
      "cell_type": "code",
      "metadata": {
        "id": "zf7IUBoUYbOD",
        "colab": {
          "base_uri": "https://localhost:8080/",
          "height": 35
        },
        "outputId": "d30ca132-7675-42db-fc68-0c305139db84"
      },
      "source": [
        "subt"
      ],
      "execution_count": null,
      "outputs": [
        {
          "output_type": "execute_result",
          "data": {
            "text/plain": [
              "2090.0"
            ]
          },
          "metadata": {
            "tags": []
          },
          "execution_count": 22
        }
      ]
    },
    {
      "cell_type": "code",
      "metadata": {
        "id": "Ej2AUIsfYxw0",
        "colab": {
          "base_uri": "https://localhost:8080/",
          "height": 451
        },
        "outputId": "87b74d98-4c46-4ef4-aac9-8eb8ba2dfc06"
      },
      "source": [
        "lines"
      ],
      "execution_count": null,
      "outputs": [
        {
          "output_type": "execute_result",
          "data": {
            "text/plain": [
              "['Stanford Plumbing & Heating INVOICE',\n",
              " '123 Madison drive, Seattle, WA, 7829Q',\n",
              " 'plumbingstanford.com',\n",
              " '990-120-4560',\n",
              " 'BILL TO Invoice No: winvo2081',\n",
              " 'Allen Smith Invoice Date: nae',\n",
              " '87Private st, Seattle, WA ‘Due Date: 12/01/18',\n",
              " 'allen@gmailcom',\n",
              " '990-302-1898',\n",
              " 'DESCRIPTION QTYHR UNITPRICE TOTAL',\n",
              " 'Installed new kitchen sink(hours) 150.00',\n",
              " 'Toto sink 1 $00.00 $00.00',\n",
              " 'Worcester greenstar magnetic system filter 1 190.00 190.00',\n",
              " 'Nest smart thermostat 1 250.00 250.00',\n",
              " 'Worcester Greenstar 301 1 1500.00 1500.00',\n",
              " '‘SUBTOTAL 2590.00',\n",
              " 'DISCOUNT 50.00',\n",
              " '‘SUBTOTAL LESS DISCOUNT 2540.00',\n",
              " 'Tank you for your business!',\n",
              " 'TAXRATE 12.00%',\n",
              " 'TOTAL TAX 304.80',\n",
              " 'Balance Due $2,844.80',\n",
              " 'Terms & Instructions',\n",
              " 'Please pay within 20 days by PayPal (bob@stanfordplumbingcom)',\n",
              " 'Installed products have S year warranty.']"
            ]
          },
          "metadata": {
            "tags": []
          },
          "execution_count": 23
        }
      ]
    },
    {
      "cell_type": "code",
      "metadata": {
        "id": "DaUo7dk9Y2Aj"
      },
      "source": [
        ""
      ],
      "execution_count": null,
      "outputs": []
    }
  ]
}